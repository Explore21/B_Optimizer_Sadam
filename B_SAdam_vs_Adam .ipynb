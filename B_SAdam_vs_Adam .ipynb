{
 "cells": [
  {
   "cell_type": "code",
   "execution_count": 1,
   "metadata": {},
   "outputs": [
    {
     "name": "stderr",
     "output_type": "stream",
     "text": [
      "Using TensorFlow backend.\n"
     ]
    }
   ],
   "source": [
    " #from keras.preprocessing.image import ImageDataGenerator\n",
    "import tensorflow as tf\n",
    "from keras.models import Sequential, load_model\n",
    "from keras.layers import Conv2D, MaxPooling2D\n",
    "from keras.layers import Activation, Dropout, Flatten, Dense, Lambda, Multiply,GlobalAveragePooling2D\n",
    "from keras import backend as K\n",
    "import cv2, numpy as np\n",
    "import glob\n",
    "from keras.optimizers import SGD, Adam\n",
    "from keras.activations import relu \n",
    "import keras as keras\n",
    "from keras.models import Model,load_model\n",
    "from keras.layers import  Input,Conv2D,BatchNormalization,Activation,Lambda,Subtract,concatenate,Add,add,Reshape\n",
    "\n",
    "from keras.layers import Input, concatenate, Conv2D, MaxPooling2D, Conv2DTranspose,DepthwiseConv2D,Concatenate\n",
    "from keras.optimizers import Adam\n",
    "from keras.callbacks import ModelCheckpoint\n",
    "from keras import losses\n",
    "from keras.layers import  Layer,Activation, Lambda, MaxPooling2D, UpSampling2D, Conv2DTranspose, SpatialDropout2D\n",
    "import os\n",
    "from keras.callbacks import ModelCheckpoint, LearningRateScheduler\n",
    "from keras.callbacks import ReduceLROnPlateau\n",
    "from keras.callbacks import EarlyStopping \n",
    "from keras.callbacks import EarlyStopping, ModelCheckpoint, TensorBoard\n",
    "from  sklearn.model_selection import train_test_split\n",
    "\n",
    "#from tensorflow.python import debug as tf_debug\n",
    "import imageio\n",
    "import glob\n",
    "from skimage import transform as tf\n",
    "from keras.losses import mse, binary_crossentropy\n",
    "\n",
    "\n",
    "from scipy import ndimage\n",
    "import matplotlib.pyplot as plt\n",
    "import matplotlib.image as plt_img\n",
    "import scipy\n",
    "import scipy\n",
    "import skimage\n",
    "import re\n",
    "#import LRFinder\n",
    "import math as m\n",
    "import tensorflow as tf \n",
    "from keras.callbacks import ModelCheckpoint, ReduceLROnPlateau, LearningRateScheduler \n",
    "from keras import backend as K\n",
    "from pathlib import Path\n",
    "from keras import objectives\n",
    "\n",
    "from keras import optimizers\n",
    "\n",
    "import numpy as np\n",
    " \n",
    "from keras import backend as K\n",
    "from skimage.measure import compare_ssim, compare_psnr\n",
    "\n",
    "from keras.utils import to_categorical\n",
    "\n",
    "import cv2\n",
    "import numpy as np\n",
    "import matplotlib\n",
    "from matplotlib import pyplot as plt\n",
    "\n",
    "tf.random.Generator = None \n",
    "import tensorflow_addons as tfa\n",
    "from keras.datasets import  mnist, fashion_mnist\n",
    "\n",
    "import warnings\n",
    "warnings.filterwarnings('ignore')\n",
    "from keras.models import Model\n",
    "from keras.utils import to_categorical\n",
    "\n",
    "\n",
    "from datetime import datetime\n",
    "from scipy.fftpack import dct, idct\n",
    "import copy"
   ]
  },
  {
   "cell_type": "code",
   "execution_count": null,
   "metadata": {},
   "outputs": [],
   "source": []
  },
  {
   "cell_type": "code",
   "execution_count": 2,
   "metadata": {},
   "outputs": [],
   "source": [
    "(x_train, y_train), (X_test, Y_test) = tf.keras.datasets.cifar10.load_data()"
   ]
  },
  {
   "cell_type": "code",
   "execution_count": 3,
   "metadata": {},
   "outputs": [
    {
     "name": "stdout",
     "output_type": "stream",
     "text": [
      "50000 50000 10000 10000\n"
     ]
    }
   ],
   "source": [
    "print(len(x_train), len(y_train),  len(X_test), len(Y_test))"
   ]
  },
  {
   "cell_type": "code",
   "execution_count": 4,
   "metadata": {},
   "outputs": [
    {
     "name": "stdout",
     "output_type": "stream",
     "text": [
      "(50000, 10) (10000, 10)\n"
     ]
    }
   ],
   "source": [
    "num_labels = len(np.unique(y_train))\n",
    "y_train = to_categorical(y_train)\n",
    "Y_test = to_categorical(Y_test)\n",
    "\n",
    "print(y_train.shape, Y_test.shape)"
   ]
  },
  {
   "cell_type": "code",
   "execution_count": 5,
   "metadata": {},
   "outputs": [
    {
     "name": "stdout",
     "output_type": "stream",
     "text": [
      "(50000, 32, 32, 3) (10000, 32, 32, 3)\n"
     ]
    }
   ],
   "source": [
    "image_size = x_train.shape[1]\n",
    "\n",
    "x_train = np.reshape(x_train,[-1, image_size, image_size, 3])\n",
    "X_test = np.reshape(X_test,[-1, image_size, image_size, 3])\n",
    "\n",
    "x_train = x_train.astype('float32') / 255\n",
    "X_test = X_test.astype('float32') / 255\n",
    "\n",
    "print(x_train.shape, X_test.shape)"
   ]
  },
  {
   "cell_type": "code",
   "execution_count": 6,
   "metadata": {},
   "outputs": [],
   "source": [
    " \n",
    "x_val=X_test[:8000]\n",
    "y_val=Y_test[:8000]\n",
    "x_test=X_test[8001:]\n",
    "y_test=Y_test[8001:]"
   ]
  },
  {
   "cell_type": "code",
   "execution_count": 7,
   "metadata": {},
   "outputs": [],
   "source": [
    "# network parameters\n",
    "input_shape = (image_size, image_size, 3)\n",
    "batch_size = 128\n",
    "kernel_size = 3\n",
    "filters = 64\n",
    "dropout = 0.3"
   ]
  },
  {
   "cell_type": "code",
   "execution_count": 8,
   "metadata": {},
   "outputs": [],
   "source": [
    "def conv_block(units, dropout=0.2, activation='relu', block=1, layer=1):\n",
    "\n",
    "    def layer_wrapper(inp):\n",
    "        x = Conv2D(units, (3, 3), padding='same', name='block{}_conv{}'.format(block, layer))(inp)\n",
    "        x = BatchNormalization(name='block{}_bn{}'.format(block, layer))(x)\n",
    "        x = Activation(activation, name='block{}_act{}'.format(block, layer))(x)\n",
    "        x = Dropout(dropout, name='block{}_dropout{}'.format(block, layer))(x)\n",
    "        return x\n",
    "\n",
    "    return layer_wrapper\n",
    "\n",
    "def dense_block(units, dropout=0.2, activation='relu', name='fc1'):\n",
    "\n",
    "    def layer_wrapper(inp):\n",
    "        x = Dense(units, name=name)(inp)\n",
    "        x = BatchNormalization(name='{}_bn'.format(name))(x)\n",
    "        x = Activation(activation, name='{}_act'.format(name))(x)\n",
    "        x = Dropout(dropout, name='{}_dropout'.format(name))(x)\n",
    "        return x\n",
    "\n",
    "    return layer_wrapper\n",
    "        \n",
    "\n",
    "def VGG16_BN(input_tensor=None, input_shape=None, classes=1000, conv_dropout=0.1, dropout=0.3, activation='relu'):\n",
    "    \"\"\"Instantiates the VGG16 architecture with Batch Normalization\n",
    "    # Arguments\n",
    "        input_tensor: Keras tensor (i.e. output of `layers.Input()`) to use as image input for the model.\n",
    "        input_shape: shape tuple\n",
    "        classes: optional number of classes to classify images\n",
    "    # Returns\n",
    "        A Keras model instance.\n",
    "    \"\"\"\n",
    "    img_input = Input(shape=input_shape) if input_tensor is None else (\n",
    "        Input(tensor=input_tensor, shape=input_shape) if not K.is_keras_tensor(input_tensor) else input_tensor\n",
    "    )\n",
    "\n",
    "    # Block 1\n",
    "    x = conv_block(32, dropout=conv_dropout, activation=activation, block=1, layer=1)(img_input)\n",
    "    x = conv_block(32, dropout=conv_dropout, activation=activation, block=1, layer=2)(x)\n",
    "    x = MaxPooling2D((2, 2), strides=(2, 2), name='block1_pool')(x)\n",
    "\n",
    "    # Block 2\n",
    "    x = conv_block(64, dropout=conv_dropout, activation=activation, block=2, layer=1)(x)\n",
    "    x = conv_block(64, dropout=conv_dropout, activation=activation, block=2, layer=2)(x)\n",
    "    x = MaxPooling2D((2, 2), strides=(2, 2), name='block2_pool')(x)\n",
    "\n",
    "    # Block 3\n",
    "    x = conv_block(128, dropout=conv_dropout, activation=activation, block=3, layer=1)(x)\n",
    "    x = conv_block(128, dropout=conv_dropout, activation=activation, block=3, layer=2)(x)\n",
    "    x = conv_block(128, dropout=conv_dropout, activation=activation, block=3, layer=3)(x)\n",
    "    x = MaxPooling2D((2, 2), strides=(2, 2), name='block3_pool')(x)\n",
    "\n",
    "    # Block 4\n",
    "    x = conv_block(256, dropout=conv_dropout, activation=activation, block=4, layer=1)(x)\n",
    "    x = conv_block(256, dropout=conv_dropout, activation=activation, block=4, layer=2)(x)\n",
    "    x = conv_block(256, dropout=conv_dropout, activation=activation, block=4, layer=3)(x)\n",
    "    x = MaxPooling2D((2, 2), strides=(2, 2), name='block4_pool')(x)\n",
    "\n",
    "    # Block 5\n",
    "    x = conv_block(256, dropout=conv_dropout, activation=activation, block=5, layer=1)(x)\n",
    "    x = conv_block(256, dropout=conv_dropout, activation=activation, block=5, layer=2)(x)\n",
    "    x = conv_block(256, dropout=conv_dropout, activation=activation, block=5, layer=3)(x)\n",
    "    x = MaxPooling2D((2, 2), strides=(2, 2), name='block5_pool')(x)\n",
    "\n",
    "    # Flatten\n",
    "    x = GlobalAveragePooling2D()(x)\n",
    "\n",
    "    # FC Layers\n",
    "    x = dense_block(512, dropout=dropout, activation=activation, name='fc1')(x)\n",
    "    x = dense_block(512, dropout=dropout, activation=activation, name='fc2')(x)\n",
    "    \n",
    "    # Classification block    \n",
    "    x = Dense(classes, activation='softmax', name='predictions')(x)\n",
    "\n",
    "    # Ensure that the model takes into account any potential predecessors of `input_tensor`.\n",
    "    inputs = get_source_inputs(input_tensor) if input_tensor is not None else img_input\n",
    "\n",
    "    # Create model.\n",
    "    return Model(inputs, x, name='vgg16_bn')"
   ]
  },
  {
   "cell_type": "code",
   "execution_count": 9,
   "metadata": {},
   "outputs": [],
   "source": [
    "from keras.models import Model\n",
    "\n",
    "inputs = Input(shape=input_shape)\n",
    "y = Conv2D(filters=filters,kernel_size=kernel_size,activation='relu')(inputs)\n",
    "y = MaxPooling2D()(y)\n",
    "y = Conv2D(filters=filters,kernel_size=kernel_size,activation='relu')(y)\n",
    "y = MaxPooling2D()(y)\n",
    "y = Conv2D(filters=filters,kernel_size=kernel_size,activation='relu')(y)\n",
    " \n",
    "y = Flatten()(y)\n",
    " \n",
    "y = Dropout(dropout)(y)\n",
    "outputs = Dense(num_labels, activation='softmax')(y)\n",
    "\n",
    " \n",
    "model = Model(inputs=inputs, outputs=outputs)\n",
    "\n",
    " \n",
    "#model =VGG16_BN(input_tensor=None, input_shape=x_train.shape[1:], classes=10, conv_dropout=0.1, dropout=0.3, activation='relu')\n",
    " \n",
    "#model.summary()"
   ]
  },
  {
   "cell_type": "code",
   "execution_count": 10,
   "metadata": {},
   "outputs": [],
   "source": [
    " \n",
    "from adam_or import Aadam\n",
    "from sadam import Sadam"
   ]
  },
  {
   "cell_type": "code",
   "execution_count": 11,
   "metadata": {},
   "outputs": [],
   "source": [
    "fw=model.get_weights()"
   ]
  },
  {
   "cell_type": "code",
   "execution_count": 12,
   "metadata": {},
   "outputs": [
    {
     "name": "stdout",
     "output_type": "stream",
     "text": [
      "Train on 50000 samples, validate on 1999 samples\n",
      "Epoch 1/30\n",
      "50000/50000 [==============================] - 9s 177us/step - loss: 2.2962 - accuracy: 0.1098 - val_loss: 2.2844 - val_accuracy: 0.1276\n",
      "Epoch 2/30\n",
      "50000/50000 [==============================] - 8s 150us/step - loss: 2.2689 - accuracy: 0.1524 - val_loss: 2.2311 - val_accuracy: 0.2176\n",
      "Epoch 3/30\n",
      "50000/50000 [==============================] - 7s 150us/step - loss: 2.1634 - accuracy: 0.2099 - val_loss: 2.0468 - val_accuracy: 0.2621\n",
      "Epoch 4/30\n",
      "50000/50000 [==============================] - 8s 152us/step - loss: 2.0415 - accuracy: 0.2437 - val_loss: 1.9728 - val_accuracy: 0.2826\n",
      "Epoch 5/30\n",
      "50000/50000 [==============================] - 8s 154us/step - loss: 1.9795 - accuracy: 0.2736 - val_loss: 1.9187 - val_accuracy: 0.3172\n",
      "Epoch 6/30\n",
      "50000/50000 [==============================] - 8s 153us/step - loss: 1.9168 - accuracy: 0.3010 - val_loss: 1.8397 - val_accuracy: 0.3382\n",
      "Epoch 7/30\n",
      "50000/50000 [==============================] - 7s 146us/step - loss: 1.8531 - accuracy: 0.3263 - val_loss: 1.7908 - val_accuracy: 0.3692\n",
      "Epoch 8/30\n",
      "50000/50000 [==============================] - 7s 149us/step - loss: 1.7945 - accuracy: 0.3479 - val_loss: 1.7220 - val_accuracy: 0.3857\n",
      "Epoch 9/30\n",
      "50000/50000 [==============================] - 8s 154us/step - loss: 1.7475 - accuracy: 0.3609 - val_loss: 1.6813 - val_accuracy: 0.4072\n",
      "Epoch 10/30\n",
      "50000/50000 [==============================] - 8s 152us/step - loss: 1.7021 - accuracy: 0.3804 - val_loss: 1.6407 - val_accuracy: 0.4127\n",
      "Epoch 11/30\n",
      "50000/50000 [==============================] - 7s 149us/step - loss: 1.6630 - accuracy: 0.3940 - val_loss: 1.6172 - val_accuracy: 0.4212\n",
      "Epoch 12/30\n",
      "50000/50000 [==============================] - 8s 154us/step - loss: 1.6298 - accuracy: 0.4078 - val_loss: 1.5851 - val_accuracy: 0.4357\n",
      "Epoch 13/30\n",
      "50000/50000 [==============================] - 8s 151us/step - loss: 1.5975 - accuracy: 0.4178 - val_loss: 1.5456 - val_accuracy: 0.4422\n",
      "Epoch 14/30\n",
      "50000/50000 [==============================] - 8s 154us/step - loss: 1.5694 - accuracy: 0.4293 - val_loss: 1.5162 - val_accuracy: 0.4587\n",
      "Epoch 15/30\n",
      "50000/50000 [==============================] - 7s 148us/step - loss: 1.5422 - accuracy: 0.4383 - val_loss: 1.5137 - val_accuracy: 0.4647\n",
      "Epoch 16/30\n",
      "50000/50000 [==============================] - 8s 151us/step - loss: 1.5162 - accuracy: 0.4463 - val_loss: 1.4741 - val_accuracy: 0.4742\n",
      "Epoch 17/30\n",
      "50000/50000 [==============================] - 7s 149us/step - loss: 1.4961 - accuracy: 0.4582 - val_loss: 1.4492 - val_accuracy: 0.4827\n",
      "Epoch 18/30\n",
      "50000/50000 [==============================] - 8s 151us/step - loss: 1.4776 - accuracy: 0.4654 - val_loss: 1.4378 - val_accuracy: 0.4852\n",
      "Epoch 19/30\n",
      "50000/50000 [==============================] - 7s 148us/step - loss: 1.4566 - accuracy: 0.4741 - val_loss: 1.4728 - val_accuracy: 0.4812\n",
      "Epoch 20/30\n",
      "50000/50000 [==============================] - 8s 153us/step - loss: 1.4427 - accuracy: 0.4820 - val_loss: 1.4088 - val_accuracy: 0.4912\n",
      "Epoch 21/30\n",
      "50000/50000 [==============================] - 8s 151us/step - loss: 1.4276 - accuracy: 0.4851 - val_loss: 1.3910 - val_accuracy: 0.5093\n",
      "Epoch 22/30\n",
      "50000/50000 [==============================] - 8s 151us/step - loss: 1.4123 - accuracy: 0.4911 - val_loss: 1.3836 - val_accuracy: 0.5098\n",
      "Epoch 23/30\n",
      "50000/50000 [==============================] - 8s 154us/step - loss: 1.3966 - accuracy: 0.5000 - val_loss: 1.3579 - val_accuracy: 0.5078\n",
      "Epoch 24/30\n",
      "50000/50000 [==============================] - 8s 153us/step - loss: 1.3850 - accuracy: 0.5036 - val_loss: 1.3499 - val_accuracy: 0.5193\n",
      "Epoch 25/30\n",
      "50000/50000 [==============================] - 8s 153us/step - loss: 1.3743 - accuracy: 0.5085 - val_loss: 1.3475 - val_accuracy: 0.5183\n",
      "Epoch 26/30\n",
      "50000/50000 [==============================] - 8s 153us/step - loss: 1.3616 - accuracy: 0.5142 - val_loss: 1.3237 - val_accuracy: 0.5278\n",
      "Epoch 27/30\n",
      "50000/50000 [==============================] - 8s 151us/step - loss: 1.3516 - accuracy: 0.5150 - val_loss: 1.3100 - val_accuracy: 0.5318\n",
      "Epoch 28/30\n",
      "50000/50000 [==============================] - 8s 154us/step - loss: 1.3370 - accuracy: 0.5246 - val_loss: 1.3062 - val_accuracy: 0.5313\n",
      "Epoch 29/30\n",
      "50000/50000 [==============================] - 8s 153us/step - loss: 1.3283 - accuracy: 0.5247 - val_loss: 1.2894 - val_accuracy: 0.5423\n",
      "Epoch 30/30\n",
      "50000/50000 [==============================] - 8s 151us/step - loss: 1.3172 - accuracy: 0.5307 - val_loss: 1.2834 - val_accuracy: 0.5398\n"
     ]
    }
   ],
   "source": [
    "ep=30\n",
    "lra=[5e-3,1e-3,5e-4,1e-4]\n",
    "optimizer = Sadam()\n",
    "\n",
    "\n",
    "weights_dict = {}\n",
    "\n",
    "weight_callback = tf.keras.callbacks.LambdaCallback \\\n",
    "( on_epoch_end=lambda epoch, logs: weights_dict.update({epoch:model.get_weights()}))\n",
    "\n",
    "\n",
    "model.compile(optimizer, loss='categorical_crossentropy', metrics=['accuracy'])\n",
    " \n",
    "\n",
    "\n",
    "hb1=model.fit(x_train,y_train, epochs=ep, validation_data=(x_test, y_test), callbacks = [weight_callback  ])"
   ]
  },
  {
   "cell_type": "code",
   "execution_count": 13,
   "metadata": {},
   "outputs": [],
   "source": [
    "# fw=model.get_weights()\n",
    "# model2=model\n",
    "\n",
    "# model2.set_weights(fw)"
   ]
  },
  {
   "cell_type": "code",
   "execution_count": 14,
   "metadata": {},
   "outputs": [
    {
     "name": "stdout",
     "output_type": "stream",
     "text": [
      "Train on 50000 samples, validate on 1999 samples\n",
      "Epoch 1/30\n",
      "50000/50000 [==============================] - 8s 158us/step - loss: 1.5481 - accuracy: 0.4336 - val_loss: 1.2653 - val_accuracy: 0.5373\n",
      "Epoch 2/30\n",
      "50000/50000 [==============================] - 8s 154us/step - loss: 1.2126 - accuracy: 0.5720 - val_loss: 1.0802 - val_accuracy: 0.6188\n",
      "Epoch 3/30\n",
      "50000/50000 [==============================] - 8s 154us/step - loss: 1.0757 - accuracy: 0.6211 - val_loss: 1.0001 - val_accuracy: 0.6493\n",
      "Epoch 4/30\n",
      "50000/50000 [==============================] - 8s 153us/step - loss: 0.9873 - accuracy: 0.6538 - val_loss: 0.9803 - val_accuracy: 0.6668\n",
      "Epoch 5/30\n",
      "50000/50000 [==============================] - 8s 153us/step - loss: 0.9245 - accuracy: 0.6767 - val_loss: 0.9195 - val_accuracy: 0.6813\n",
      "Epoch 6/30\n",
      "50000/50000 [==============================] - 8s 153us/step - loss: 0.8765 - accuracy: 0.6939 - val_loss: 0.9038 - val_accuracy: 0.6828\n",
      "Epoch 7/30\n",
      "50000/50000 [==============================] - 8s 153us/step - loss: 0.8407 - accuracy: 0.7034 - val_loss: 0.8909 - val_accuracy: 0.6928\n",
      "Epoch 8/30\n",
      "50000/50000 [==============================] - 8s 153us/step - loss: 0.8091 - accuracy: 0.7172 - val_loss: 0.8273 - val_accuracy: 0.7074\n",
      "Epoch 9/30\n",
      "50000/50000 [==============================] - 8s 152us/step - loss: 0.7803 - accuracy: 0.7257 - val_loss: 0.8032 - val_accuracy: 0.7204\n",
      "Epoch 10/30\n",
      "50000/50000 [==============================] - 8s 153us/step - loss: 0.7543 - accuracy: 0.7360 - val_loss: 0.8191 - val_accuracy: 0.7189\n",
      "Epoch 11/30\n",
      "50000/50000 [==============================] - 8s 156us/step - loss: 0.7310 - accuracy: 0.7427 - val_loss: 0.7975 - val_accuracy: 0.7164\n",
      "Epoch 12/30\n",
      "50000/50000 [==============================] - 8s 163us/step - loss: 0.7101 - accuracy: 0.7505 - val_loss: 0.8035 - val_accuracy: 0.7224\n",
      "Epoch 13/30\n",
      "50000/50000 [==============================] - 8s 156us/step - loss: 0.6911 - accuracy: 0.7572 - val_loss: 0.7921 - val_accuracy: 0.7249\n",
      "Epoch 14/30\n",
      "50000/50000 [==============================] - 8s 155us/step - loss: 0.6764 - accuracy: 0.7625 - val_loss: 0.7930 - val_accuracy: 0.7279\n",
      "Epoch 15/30\n",
      "50000/50000 [==============================] - 8s 157us/step - loss: 0.6615 - accuracy: 0.7673 - val_loss: 0.7727 - val_accuracy: 0.7359\n",
      "Epoch 16/30\n",
      "50000/50000 [==============================] - 8s 155us/step - loss: 0.6482 - accuracy: 0.7722 - val_loss: 0.7569 - val_accuracy: 0.7304\n",
      "Epoch 17/30\n",
      "50000/50000 [==============================] - 8s 154us/step - loss: 0.6303 - accuracy: 0.7798 - val_loss: 0.7975 - val_accuracy: 0.7254\n",
      "Epoch 18/30\n",
      "50000/50000 [==============================] - 8s 156us/step - loss: 0.6260 - accuracy: 0.7793 - val_loss: 0.7795 - val_accuracy: 0.7369\n",
      "Epoch 19/30\n",
      "50000/50000 [==============================] - 8s 154us/step - loss: 0.6075 - accuracy: 0.7844 - val_loss: 0.7688 - val_accuracy: 0.7324\n",
      "Epoch 20/30\n",
      "50000/50000 [==============================] - 8s 154us/step - loss: 0.5894 - accuracy: 0.7915 - val_loss: 0.7604 - val_accuracy: 0.7349\n",
      "Epoch 21/30\n",
      "50000/50000 [==============================] - 8s 156us/step - loss: 0.5851 - accuracy: 0.7916 - val_loss: 0.7670 - val_accuracy: 0.7434\n",
      "Epoch 22/30\n",
      "50000/50000 [==============================] - 8s 154us/step - loss: 0.5720 - accuracy: 0.7977 - val_loss: 0.7913 - val_accuracy: 0.7324\n",
      "Epoch 23/30\n",
      "50000/50000 [==============================] - 8s 154us/step - loss: 0.5642 - accuracy: 0.7988 - val_loss: 0.7752 - val_accuracy: 0.7399\n",
      "Epoch 24/30\n",
      "50000/50000 [==============================] - 8s 154us/step - loss: 0.5508 - accuracy: 0.8042 - val_loss: 0.7742 - val_accuracy: 0.7419\n",
      "Epoch 25/30\n",
      "50000/50000 [==============================] - 8s 155us/step - loss: 0.5444 - accuracy: 0.8055 - val_loss: 0.7697 - val_accuracy: 0.7414\n",
      "Epoch 26/30\n",
      "50000/50000 [==============================] - 8s 154us/step - loss: 0.5418 - accuracy: 0.8064 - val_loss: 0.7710 - val_accuracy: 0.7439\n",
      "Epoch 27/30\n",
      "50000/50000 [==============================] - 8s 155us/step - loss: 0.5255 - accuracy: 0.8134 - val_loss: 0.7961 - val_accuracy: 0.7419\n",
      "Epoch 28/30\n",
      "50000/50000 [==============================] - 8s 153us/step - loss: 0.5196 - accuracy: 0.8150 - val_loss: 0.8240 - val_accuracy: 0.7359\n",
      "Epoch 29/30\n",
      "50000/50000 [==============================] - 8s 153us/step - loss: 0.5146 - accuracy: 0.8156 - val_loss: 0.8281 - val_accuracy: 0.7284\n",
      "Epoch 30/30\n",
      "50000/50000 [==============================] - 8s 154us/step - loss: 0.5056 - accuracy: 0.8198 - val_loss: 0.8097 - val_accuracy: 0.7319\n"
     ]
    }
   ],
   "source": [
    "model2=  Model(inputs=inputs, outputs=outputs)\n",
    "optimizer = Aadam()\n",
    "model2.set_weights(fw)\n",
    "\n",
    "weights_dict = {}\n",
    "\n",
    "weight_callback = tf.keras.callbacks.LambdaCallback \\\n",
    "( on_epoch_end=lambda epoch, logs: weights_dict.update({epoch:model.get_weights()}))\n",
    "\n",
    "\n",
    "model2.compile(optimizer, loss='categorical_crossentropy', metrics=['accuracy'])\n",
    " \n",
    "\n",
    "\n",
    "hb2=model2.fit(x_train,y_train, epochs=ep, validation_data=(x_test, y_test), callbacks = [weight_callback  ])"
   ]
  },
  {
   "cell_type": "code",
   "execution_count": 15,
   "metadata": {},
   "outputs": [],
   "source": [
    "h1=hb1.history['accuracy']\n",
    "h2=hb2.history['accuracy']"
   ]
  },
  {
   "cell_type": "code",
   "execution_count": 16,
   "metadata": {},
   "outputs": [
    {
     "data": {
      "image/png": "[encoded data removed]",
      "text/plain": [
       "<Figure size 432x288 with 1 Axes>"
      ]
     },
     "metadata": {
      "needs_background": "light"
     },
     "output_type": "display_data"
    }
   ],
   "source": [
    "plt.plot(h1)\n",
    "plt.plot(h2)\n",
    "plt.title('model accuracy')\n",
    "plt.ylabel('accuracy')\n",
    "plt.xlabel('epoch')\n",
    "plt.legend(['SAdam', 'Adam'], loc='upper left')\n",
    "plt.show()"
   ]
  },
  {
   "cell_type": "code",
   "execution_count": 17,
   "metadata": {},
   "outputs": [],
   "source": [
    "vh1=hb1.history['val_accuracy']\n",
    "vh2=hb2.history['val_accuracy']"
   ]
  },
  {
   "cell_type": "code",
   "execution_count": 18,
   "metadata": {},
   "outputs": [
    {
     "data": {
      "image/png": "[encoded data removed]",
      "text/plain": [
       "<Figure size 432x288 with 1 Axes>"
      ]
     },
     "metadata": {
      "needs_background": "light"
     },
     "output_type": "display_data"
    }
   ],
   "source": [
    "plt.plot(vh1)\n",
    "plt.plot(vh2)\n",
    "plt.title('model accuracy')\n",
    "plt.ylabel('accuracy')\n",
    "plt.xlabel('epoch')\n",
    "plt.legend(['SAdam', 'Adam'], loc='upper left')\n",
    "plt.show()"
   ]
  },
  {
   "cell_type": "code",
   "execution_count": null,
   "metadata": {},
   "outputs": [],
   "source": []
  },
  {
   "cell_type": "code",
   "execution_count": null,
   "metadata": {},
   "outputs": [],
   "source": []
  },
  {
   "cell_type": "code",
   "execution_count": null,
   "metadata": {},
   "outputs": [],
   "source": []
  }
 ],
 "metadata": {
  "kernelspec": {
   "display_name": "Python [conda env:Bdeep] *",
   "language": "python",
   "name": "conda-env-Bdeep-py"
  },
  "language_info": {
   "codemirror_mode": {
    "name": "ipython",
    "version": 3
   },
   "file_extension": ".py",
   "mimetype": "text/x-python",
   "name": "python",
   "nbconvert_exporter": "python",
   "pygments_lexer": "ipython3",
   "version": "3.7.9"
  }
 },
 "nbformat": 4,
 "nbformat_minor": 4
}
