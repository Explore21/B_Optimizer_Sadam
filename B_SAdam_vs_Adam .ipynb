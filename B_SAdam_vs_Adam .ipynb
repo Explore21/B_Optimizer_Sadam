{
 "cells": [
  {
   "cell_type": "code",
   "execution_count": 1,
   "metadata": {},
   "outputs": [
    {
     "name": "stderr",
     "output_type": "stream",
     "text": [
      "Using TensorFlow backend.\n"
     ]
    }
   ],
   "source": [
    " #from keras.preprocessing.image import ImageDataGenerator\n",
    "import tensorflow as tf\n",
    "from keras.models import Sequential, load_model\n",
    "from keras.layers import Conv2D, MaxPooling2D\n",
    "from keras.layers import Activation, Dropout, Flatten, Dense, Lambda, Multiply,GlobalAveragePooling2D\n",
    "from keras import backend as K\n",
    "import cv2, numpy as np\n",
    "import glob\n",
    "from keras.optimizers import SGD, Adam\n",
    "from keras.activations import relu \n",
    "import keras as keras\n",
    "from keras.models import Model,load_model\n",
    "from keras.layers import  Input,Conv2D,BatchNormalization,Activation,Lambda,Subtract,concatenate,Add,add,Reshape\n",
    "\n",
    "from keras.layers import Input, concatenate, Conv2D, MaxPooling2D, Conv2DTranspose,DepthwiseConv2D,Concatenate\n",
    "from keras.optimizers import Adam\n",
    "from keras.callbacks import ModelCheckpoint\n",
    "from keras import losses\n",
    "from keras.layers import  Layer,Activation, Lambda, MaxPooling2D, UpSampling2D, Conv2DTranspose, SpatialDropout2D\n",
    "import os\n",
    "from keras.callbacks import ModelCheckpoint, LearningRateScheduler\n",
    "from keras.callbacks import ReduceLROnPlateau\n",
    "from keras.callbacks import EarlyStopping \n",
    "from keras.callbacks import EarlyStopping, ModelCheckpoint, TensorBoard\n",
    "from  sklearn.model_selection import train_test_split\n",
    "\n",
    "#from tensorflow.python import debug as tf_debug\n",
    "import imageio\n",
    "import glob\n",
    "from skimage import transform as tf\n",
    "from keras.losses import mse, binary_crossentropy\n",
    "\n",
    "\n",
    "from scipy import ndimage\n",
    "import matplotlib.pyplot as plt\n",
    "import matplotlib.image as plt_img\n",
    "import scipy\n",
    "import scipy\n",
    "import skimage\n",
    "import re\n",
    "#import LRFinder\n",
    "import math as m\n",
    "import tensorflow as tf \n",
    "from keras.callbacks import ModelCheckpoint, ReduceLROnPlateau, LearningRateScheduler \n",
    "from keras import backend as K\n",
    "from pathlib import Path\n",
    "from keras import objectives\n",
    "\n",
    "from keras import optimizers\n",
    "\n",
    "import numpy as np\n",
    " \n",
    "from keras import backend as K\n",
    "from skimage.measure import compare_ssim, compare_psnr\n",
    "\n",
    "from keras.utils import to_categorical\n",
    "\n",
    "import cv2\n",
    "import numpy as np\n",
    "import matplotlib\n",
    "from matplotlib import pyplot as plt\n",
    "\n",
    "tf.random.Generator = None \n",
    "import tensorflow_addons as tfa\n",
    "from keras.datasets import  mnist, fashion_mnist\n",
    "\n",
    "import warnings\n",
    "warnings.filterwarnings('ignore')\n",
    "from keras.models import Model\n",
    "from keras.utils import to_categorical\n",
    "\n",
    "\n",
    "from datetime import datetime\n",
    "from scipy.fftpack import dct, idct\n",
    "import copy"
   ]
  },
  {
   "cell_type": "code",
   "execution_count": null,
   "metadata": {},
   "outputs": [],
   "source": []
  },
  {
   "cell_type": "code",
   "execution_count": 2,
   "metadata": {},
   "outputs": [],
   "source": [
    "(x_train, y_train), (X_test, Y_test) = tf.keras.datasets.cifar10.load_data()"
   ]
  },
  {
   "cell_type": "code",
   "execution_count": 3,
   "metadata": {},
   "outputs": [
    {
     "name": "stdout",
     "output_type": "stream",
     "text": [
      "50000 50000 10000 10000\n"
     ]
    }
   ],
   "source": [
    "print(len(x_train), len(y_train),  len(X_test), len(Y_test))"
   ]
  },
  {
   "cell_type": "code",
   "execution_count": 4,
   "metadata": {},
   "outputs": [
    {
     "name": "stdout",
     "output_type": "stream",
     "text": [
      "(50000, 10) (10000, 10)\n"
     ]
    }
   ],
   "source": [
    "num_labels = len(np.unique(y_train))\n",
    "y_train = to_categorical(y_train)\n",
    "Y_test = to_categorical(Y_test)\n",
    "\n",
    "print(y_train.shape, Y_test.shape)"
   ]
  },
  {
   "cell_type": "code",
   "execution_count": 5,
   "metadata": {},
   "outputs": [
    {
     "name": "stdout",
     "output_type": "stream",
     "text": [
      "(50000, 32, 32, 3) (10000, 32, 32, 3)\n"
     ]
    }
   ],
   "source": [
    "image_size = x_train.shape[1]\n",
    "\n",
    "x_train = np.reshape(x_train,[-1, image_size, image_size, 3])\n",
    "X_test = np.reshape(X_test,[-1, image_size, image_size, 3])\n",
    "\n",
    "x_train = x_train.astype('float32') / 255\n",
    "X_test = X_test.astype('float32') / 255\n",
    "\n",
    "print(x_train.shape, X_test.shape)"
   ]
  },
  {
   "cell_type": "code",
   "execution_count": 6,
   "metadata": {},
   "outputs": [],
   "source": [
    " \n",
    "x_val=X_test[:8000]\n",
    "y_val=Y_test[:8000]\n",
    "x_test=X_test[8001:]\n",
    "y_test=Y_test[8001:]"
   ]
  },
  {
   "cell_type": "code",
   "execution_count": 7,
   "metadata": {},
   "outputs": [],
   "source": [
    "# network parameters\n",
    "input_shape = (image_size, image_size, 3)\n",
    "batch_size = 128\n",
    "kernel_size = 3\n",
    "filters = 64\n",
    "dropout = 0.3"
   ]
  },
  {
   "cell_type": "code",
   "execution_count": 8,
   "metadata": {},
   "outputs": [],
   "source": [
    "def conv_block(units, dropout=0.2, activation='relu', block=1, layer=1):\n",
    "\n",
    "    def layer_wrapper(inp):\n",
    "        x = Conv2D(units, (3, 3), padding='same', name='block{}_conv{}'.format(block, layer))(inp)\n",
    "        x = BatchNormalization(name='block{}_bn{}'.format(block, layer))(x)\n",
    "        x = Activation(activation, name='block{}_act{}'.format(block, layer))(x)\n",
    "        x = Dropout(dropout, name='block{}_dropout{}'.format(block, layer))(x)\n",
    "        return x\n",
    "\n",
    "    return layer_wrapper\n",
    "\n",
    "def dense_block(units, dropout=0.2, activation='relu', name='fc1'):\n",
    "\n",
    "    def layer_wrapper(inp):\n",
    "        x = Dense(units, name=name)(inp)\n",
    "        x = BatchNormalization(name='{}_bn'.format(name))(x)\n",
    "        x = Activation(activation, name='{}_act'.format(name))(x)\n",
    "        x = Dropout(dropout, name='{}_dropout'.format(name))(x)\n",
    "        return x\n",
    "\n",
    "    return layer_wrapper\n",
    "        \n",
    "\n",
    "def VGG16_BN(input_tensor=None, input_shape=None, classes=1000, conv_dropout=0.1, dropout=0.3, activation='relu'):\n",
    "    \"\"\"Instantiates the VGG16 architecture with Batch Normalization\n",
    "    # Arguments\n",
    "        input_tensor: Keras tensor (i.e. output of `layers.Input()`) to use as image input for the model.\n",
    "        input_shape: shape tuple\n",
    "        classes: optional number of classes to classify images\n",
    "    # Returns\n",
    "        A Keras model instance.\n",
    "    \"\"\"\n",
    "    img_input = Input(shape=input_shape) if input_tensor is None else (\n",
    "        Input(tensor=input_tensor, shape=input_shape) if not K.is_keras_tensor(input_tensor) else input_tensor\n",
    "    )\n",
    "\n",
    "    # Block 1\n",
    "    x = conv_block(32, dropout=conv_dropout, activation=activation, block=1, layer=1)(img_input)\n",
    "    x = conv_block(32, dropout=conv_dropout, activation=activation, block=1, layer=2)(x)\n",
    "    x = MaxPooling2D((2, 2), strides=(2, 2), name='block1_pool')(x)\n",
    "\n",
    "    # Block 2\n",
    "    x = conv_block(64, dropout=conv_dropout, activation=activation, block=2, layer=1)(x)\n",
    "    x = conv_block(64, dropout=conv_dropout, activation=activation, block=2, layer=2)(x)\n",
    "    x = MaxPooling2D((2, 2), strides=(2, 2), name='block2_pool')(x)\n",
    "\n",
    "    # Block 3\n",
    "    x = conv_block(128, dropout=conv_dropout, activation=activation, block=3, layer=1)(x)\n",
    "    x = conv_block(128, dropout=conv_dropout, activation=activation, block=3, layer=2)(x)\n",
    "    x = conv_block(128, dropout=conv_dropout, activation=activation, block=3, layer=3)(x)\n",
    "    x = MaxPooling2D((2, 2), strides=(2, 2), name='block3_pool')(x)\n",
    "\n",
    "    # Block 4\n",
    "    x = conv_block(256, dropout=conv_dropout, activation=activation, block=4, layer=1)(x)\n",
    "    x = conv_block(256, dropout=conv_dropout, activation=activation, block=4, layer=2)(x)\n",
    "    x = conv_block(256, dropout=conv_dropout, activation=activation, block=4, layer=3)(x)\n",
    "    x = MaxPooling2D((2, 2), strides=(2, 2), name='block4_pool')(x)\n",
    "\n",
    "    # Block 5\n",
    "    x = conv_block(256, dropout=conv_dropout, activation=activation, block=5, layer=1)(x)\n",
    "    x = conv_block(256, dropout=conv_dropout, activation=activation, block=5, layer=2)(x)\n",
    "    x = conv_block(256, dropout=conv_dropout, activation=activation, block=5, layer=3)(x)\n",
    "    x = MaxPooling2D((2, 2), strides=(2, 2), name='block5_pool')(x)\n",
    "\n",
    "    # Flatten\n",
    "    x = GlobalAveragePooling2D()(x)\n",
    "\n",
    "    # FC Layers\n",
    "    x = dense_block(512, dropout=dropout, activation=activation, name='fc1')(x)\n",
    "    x = dense_block(512, dropout=dropout, activation=activation, name='fc2')(x)\n",
    "    \n",
    "    # Classification block    \n",
    "    x = Dense(classes, activation='softmax', name='predictions')(x)\n",
    "\n",
    "    # Ensure that the model takes into account any potential predecessors of `input_tensor`.\n",
    "    inputs = get_source_inputs(input_tensor) if input_tensor is not None else img_input\n",
    "\n",
    "    # Create model.\n",
    "    return Model(inputs, x, name='vgg16_bn')"
   ]
  },
  {
   "cell_type": "code",
   "execution_count": 9,
   "metadata": {},
   "outputs": [],
   "source": [
    "from keras.models import Model\n",
    "\n",
    "inputs = Input(shape=input_shape)\n",
    "y = Conv2D(filters=filters,kernel_size=kernel_size,activation='relu')(inputs)\n",
    "y = MaxPooling2D()(y)\n",
    "y = Conv2D(filters=filters,kernel_size=kernel_size,activation='relu')(y)\n",
    "y = MaxPooling2D()(y)\n",
    "y = Conv2D(filters=filters,kernel_size=kernel_size,activation='relu')(y)\n",
    " \n",
    "y = Flatten()(y)\n",
    " \n",
    "y = Dropout(dropout)(y)\n",
    "outputs = Dense(num_labels, activation='softmax')(y)\n",
    "\n",
    " \n",
    "model = Model(inputs=inputs, outputs=outputs)\n",
    "\n",
    " \n",
    "#model =VGG16_BN(input_tensor=None, input_shape=x_train.shape[1:], classes=10, conv_dropout=0.1, dropout=0.3, activation='relu')\n",
    " \n",
    "#model.summary()"
   ]
  },
  {
   "cell_type": "code",
   "execution_count": 10,
   "metadata": {},
   "outputs": [],
   "source": [
    " \n",
    "from adam_or import Aadam\n",
    "from sadam import Sadam"
   ]
  },
  {
   "cell_type": "code",
   "execution_count": 11,
   "metadata": {},
   "outputs": [],
   "source": [
    "fw=model.get_weights()"
   ]
  },
  {
   "cell_type": "code",
   "execution_count": 12,
   "metadata": {},
   "outputs": [
    {
     "name": "stdout",
     "output_type": "stream",
     "text": [
      "Train on 50000 samples, validate on 1999 samples\n",
      "Epoch 1/30\n",
      "50000/50000 [==============================] - 9s 178us/step - loss: 1.5776 - accuracy: 0.4247 - val_loss: 1.2804 - val_accuracy: 0.5463\n",
      "Epoch 2/30\n",
      "50000/50000 [==============================] - 8s 152us/step - loss: 1.2342 - accuracy: 0.5614 - val_loss: 1.0933 - val_accuracy: 0.6168\n",
      "Epoch 3/30\n",
      "50000/50000 [==============================] - 8s 152us/step - loss: 1.0904 - accuracy: 0.6149 - val_loss: 1.0084 - val_accuracy: 0.6548\n",
      "Epoch 4/30\n",
      "50000/50000 [==============================] - 8s 151us/step - loss: 0.9993 - accuracy: 0.6490 - val_loss: 1.0222 - val_accuracy: 0.6473\n",
      "Epoch 5/30\n",
      "50000/50000 [==============================] - 8s 152us/step - loss: 0.9357 - accuracy: 0.6702 - val_loss: 0.9371 - val_accuracy: 0.6713\n",
      "Epoch 6/30\n",
      "50000/50000 [==============================] - 8s 151us/step - loss: 0.8883 - accuracy: 0.6890 - val_loss: 0.8787 - val_accuracy: 0.6938\n",
      "Epoch 7/30\n",
      "50000/50000 [==============================] - 8s 151us/step - loss: 0.8483 - accuracy: 0.7038 - val_loss: 0.9150 - val_accuracy: 0.6778\n",
      "Epoch 8/30\n",
      "50000/50000 [==============================] - 8s 153us/step - loss: 0.8174 - accuracy: 0.7130 - val_loss: 0.8585 - val_accuracy: 0.7084\n",
      "Epoch 9/30\n",
      "50000/50000 [==============================] - 8s 152us/step - loss: 0.7859 - accuracy: 0.7246 - val_loss: 0.8510 - val_accuracy: 0.7034\n",
      "Epoch 10/30\n",
      "50000/50000 [==============================] - 8s 151us/step - loss: 0.7590 - accuracy: 0.7333 - val_loss: 0.8325 - val_accuracy: 0.7199\n",
      "Epoch 11/30\n",
      "50000/50000 [==============================] - 8s 153us/step - loss: 0.7416 - accuracy: 0.7412 - val_loss: 0.8070 - val_accuracy: 0.7134\n",
      "Epoch 12/30\n",
      "50000/50000 [==============================] - 8s 151us/step - loss: 0.7211 - accuracy: 0.7462 - val_loss: 0.8108 - val_accuracy: 0.7134\n",
      "Epoch 13/30\n",
      "50000/50000 [==============================] - 8s 151us/step - loss: 0.6995 - accuracy: 0.7539 - val_loss: 0.8612 - val_accuracy: 0.7014\n",
      "Epoch 14/30\n",
      "50000/50000 [==============================] - 8s 153us/step - loss: 0.6807 - accuracy: 0.7618 - val_loss: 0.8002 - val_accuracy: 0.7244\n",
      "Epoch 15/30\n",
      "50000/50000 [==============================] - 8s 152us/step - loss: 0.6658 - accuracy: 0.7654 - val_loss: 0.8167 - val_accuracy: 0.7299\n",
      "Epoch 16/30\n",
      "50000/50000 [==============================] - 8s 152us/step - loss: 0.6519 - accuracy: 0.7704 - val_loss: 0.7864 - val_accuracy: 0.7289\n",
      "Epoch 17/30\n",
      "50000/50000 [==============================] - 8s 152us/step - loss: 0.6358 - accuracy: 0.7736 - val_loss: 0.7729 - val_accuracy: 0.7259\n",
      "Epoch 18/30\n",
      "50000/50000 [==============================] - 8s 153us/step - loss: 0.6165 - accuracy: 0.7825 - val_loss: 0.8019 - val_accuracy: 0.7344\n",
      "Epoch 19/30\n",
      "50000/50000 [==============================] - 8s 153us/step - loss: 0.6082 - accuracy: 0.7850 - val_loss: 0.8009 - val_accuracy: 0.7364\n",
      "Epoch 20/30\n",
      "50000/50000 [==============================] - 8s 152us/step - loss: 0.5925 - accuracy: 0.7909 - val_loss: 0.8058 - val_accuracy: 0.7219\n",
      "Epoch 21/30\n",
      "50000/50000 [==============================] - 8s 151us/step - loss: 0.5804 - accuracy: 0.7946 - val_loss: 0.7927 - val_accuracy: 0.7194\n",
      "Epoch 22/30\n",
      "50000/50000 [==============================] - 8s 152us/step - loss: 0.5658 - accuracy: 0.8006 - val_loss: 0.7589 - val_accuracy: 0.7414\n",
      "Epoch 23/30\n",
      "50000/50000 [==============================] - 8s 151us/step - loss: 0.5585 - accuracy: 0.8024 - val_loss: 0.8111 - val_accuracy: 0.7219\n",
      "Epoch 24/30\n",
      "50000/50000 [==============================] - 8s 152us/step - loss: 0.5473 - accuracy: 0.8058 - val_loss: 0.8402 - val_accuracy: 0.7219\n",
      "Epoch 25/30\n",
      "50000/50000 [==============================] - 8s 152us/step - loss: 0.5384 - accuracy: 0.8075 - val_loss: 0.8122 - val_accuracy: 0.7359\n",
      "Epoch 26/30\n",
      "50000/50000 [==============================] - 8s 152us/step - loss: 0.5319 - accuracy: 0.8099 - val_loss: 0.7892 - val_accuracy: 0.7449\n",
      "Epoch 27/30\n",
      "50000/50000 [==============================] - 8s 153us/step - loss: 0.5236 - accuracy: 0.8142 - val_loss: 0.8068 - val_accuracy: 0.7364\n",
      "Epoch 28/30\n",
      "50000/50000 [==============================] - 8s 153us/step - loss: 0.5192 - accuracy: 0.8151 - val_loss: 0.8079 - val_accuracy: 0.7334\n",
      "Epoch 29/30\n",
      "50000/50000 [==============================] - 8s 153us/step - loss: 0.5115 - accuracy: 0.8167 - val_loss: 0.8271 - val_accuracy: 0.7314\n",
      "Epoch 30/30\n",
      "50000/50000 [==============================] - 8s 153us/step - loss: 0.4999 - accuracy: 0.8217 - val_loss: 0.8082 - val_accuracy: 0.7339\n"
     ]
    }
   ],
   "source": [
    "ep=30\n",
    "lra=[5e-3,1e-3,5e-4,1e-4]\n",
    "optimizer = Aadam()\n",
    "\n",
    "\n",
    "weights_dict = {}\n",
    "\n",
    "weight_callback = tf.keras.callbacks.LambdaCallback \\\n",
    "( on_epoch_end=lambda epoch, logs: weights_dict.update({epoch:model.get_weights()}))\n",
    "\n",
    "\n",
    "model.compile(optimizer, loss='categorical_crossentropy', metrics=['accuracy'])\n",
    " \n",
    "\n",
    "\n",
    "hb1=model.fit(x_train,y_train, epochs=ep, validation_data=(x_test, y_test), callbacks = [weight_callback  ])"
   ]
  },
  {
   "cell_type": "code",
   "execution_count": 13,
   "metadata": {},
   "outputs": [],
   "source": [
    "# fw=model.get_weights()\n",
    "# model2=model\n",
    "\n",
    "# model2.set_weights(fw)"
   ]
  },
  {
   "cell_type": "code",
   "execution_count": 14,
   "metadata": {},
   "outputs": [
    {
     "name": "stdout",
     "output_type": "stream",
     "text": [
      "Train on 50000 samples, validate on 1999 samples\n",
      "Epoch 1/30\n",
      "50000/50000 [==============================] - 8s 155us/step - loss: 1.5473 - accuracy: 0.4325 - val_loss: 1.2798 - val_accuracy: 0.5453\n",
      "Epoch 2/30\n",
      "50000/50000 [==============================] - 8s 151us/step - loss: 1.2009 - accuracy: 0.5739 - val_loss: 1.0834 - val_accuracy: 0.6258\n",
      "Epoch 3/30\n",
      "50000/50000 [==============================] - 8s 158us/step - loss: 1.0566 - accuracy: 0.6297 - val_loss: 0.9844 - val_accuracy: 0.6583\n",
      "Epoch 4/30\n",
      "50000/50000 [==============================] - 8s 151us/step - loss: 0.9696 - accuracy: 0.6613 - val_loss: 0.9791 - val_accuracy: 0.6638\n",
      "Epoch 5/30\n",
      "50000/50000 [==============================] - 8s 153us/step - loss: 0.9075 - accuracy: 0.6811 - val_loss: 0.8444 - val_accuracy: 0.7014\n",
      "Epoch 6/30\n",
      "50000/50000 [==============================] - 8s 150us/step - loss: 0.8623 - accuracy: 0.6994 - val_loss: 0.8389 - val_accuracy: 0.7114\n",
      "Epoch 7/30\n",
      "50000/50000 [==============================] - 8s 150us/step - loss: 0.8229 - accuracy: 0.7116 - val_loss: 0.8372 - val_accuracy: 0.7124\n",
      "Epoch 8/30\n",
      "50000/50000 [==============================] - 8s 152us/step - loss: 0.7905 - accuracy: 0.7245 - val_loss: 0.8730 - val_accuracy: 0.6978\n",
      "Epoch 9/30\n",
      "50000/50000 [==============================] - 8s 152us/step - loss: 0.7661 - accuracy: 0.7351 - val_loss: 0.7873 - val_accuracy: 0.7199\n",
      "Epoch 10/30\n",
      "50000/50000 [==============================] - 8s 152us/step - loss: 0.7417 - accuracy: 0.7391 - val_loss: 0.7812 - val_accuracy: 0.7259\n",
      "Epoch 11/30\n",
      "50000/50000 [==============================] - 8s 151us/step - loss: 0.7242 - accuracy: 0.7471 - val_loss: 0.7848 - val_accuracy: 0.7344\n",
      "Epoch 12/30\n",
      "50000/50000 [==============================] - 8s 150us/step - loss: 0.6999 - accuracy: 0.7568 - val_loss: 0.7935 - val_accuracy: 0.7334\n",
      "Epoch 13/30\n",
      "50000/50000 [==============================] - 8s 152us/step - loss: 0.6823 - accuracy: 0.7625 - val_loss: 0.7954 - val_accuracy: 0.7309\n",
      "Epoch 14/30\n",
      "50000/50000 [==============================] - 8s 151us/step - loss: 0.6640 - accuracy: 0.7669 - val_loss: 0.7574 - val_accuracy: 0.7384\n",
      "Epoch 15/30\n",
      "50000/50000 [==============================] - 8s 151us/step - loss: 0.6485 - accuracy: 0.7742 - val_loss: 0.7629 - val_accuracy: 0.7349\n",
      "Epoch 16/30\n",
      "50000/50000 [==============================] - 8s 151us/step - loss: 0.6383 - accuracy: 0.7742 - val_loss: 0.7757 - val_accuracy: 0.7319\n",
      "Epoch 17/30\n",
      "50000/50000 [==============================] - 8s 151us/step - loss: 0.6203 - accuracy: 0.7822 - val_loss: 0.7549 - val_accuracy: 0.7469\n",
      "Epoch 18/30\n",
      "50000/50000 [==============================] - 8s 151us/step - loss: 0.6094 - accuracy: 0.7869 - val_loss: 0.7877 - val_accuracy: 0.7319\n",
      "Epoch 19/30\n",
      "50000/50000 [==============================] - 8s 151us/step - loss: 0.5973 - accuracy: 0.7906 - val_loss: 0.7779 - val_accuracy: 0.7299\n",
      "Epoch 20/30\n",
      "50000/50000 [==============================] - 8s 151us/step - loss: 0.5857 - accuracy: 0.7933 - val_loss: 0.7861 - val_accuracy: 0.7324\n",
      "Epoch 21/30\n",
      "50000/50000 [==============================] - 8s 151us/step - loss: 0.5772 - accuracy: 0.7966 - val_loss: 0.7762 - val_accuracy: 0.7329\n",
      "Epoch 22/30\n",
      "50000/50000 [==============================] - 8s 154us/step - loss: 0.5626 - accuracy: 0.8008 - val_loss: 0.7937 - val_accuracy: 0.7414\n",
      "Epoch 23/30\n",
      "50000/50000 [==============================] - 8s 152us/step - loss: 0.5546 - accuracy: 0.8044 - val_loss: 0.7876 - val_accuracy: 0.7484\n",
      "Epoch 24/30\n",
      "50000/50000 [==============================] - 8s 154us/step - loss: 0.5490 - accuracy: 0.8049 - val_loss: 0.8198 - val_accuracy: 0.7224\n",
      "Epoch 25/30\n",
      "50000/50000 [==============================] - 8s 155us/step - loss: 0.5419 - accuracy: 0.8066 - val_loss: 0.8508 - val_accuracy: 0.7279\n",
      "Epoch 26/30\n",
      "50000/50000 [==============================] - 8s 152us/step - loss: 0.5309 - accuracy: 0.8120 - val_loss: 0.8275 - val_accuracy: 0.7344\n",
      "Epoch 27/30\n",
      "50000/50000 [==============================] - 8s 151us/step - loss: 0.5238 - accuracy: 0.8141 - val_loss: 0.9329 - val_accuracy: 0.7194\n",
      "Epoch 28/30\n",
      "50000/50000 [==============================] - 8s 151us/step - loss: 0.5142 - accuracy: 0.8172 - val_loss: 0.8234 - val_accuracy: 0.7434\n",
      "Epoch 29/30\n",
      "50000/50000 [==============================] - 8s 151us/step - loss: 0.5096 - accuracy: 0.8178 - val_loss: 0.8183 - val_accuracy: 0.7359\n",
      "Epoch 30/30\n",
      "50000/50000 [==============================] - 8s 151us/step - loss: 0.5027 - accuracy: 0.8218 - val_loss: 0.9040 - val_accuracy: 0.7234\n"
     ]
    }
   ],
   "source": [
    "model2=  Model(inputs=inputs, outputs=outputs)\n",
    "optimizer = Aadam()\n",
    "model2.set_weights(fw)\n",
    "\n",
    "weights_dict = {}\n",
    "\n",
    "weight_callback = tf.keras.callbacks.LambdaCallback \\\n",
    "( on_epoch_end=lambda epoch, logs: weights_dict.update({epoch:model.get_weights()}))\n",
    "\n",
    "\n",
    "model2.compile(optimizer, loss='categorical_crossentropy', metrics=['accuracy'])\n",
    " \n",
    "\n",
    "\n",
    "hb2=model2.fit(x_train,y_train, epochs=ep, validation_data=(x_test, y_test), callbacks = [weight_callback  ])"
   ]
  },
  {
   "cell_type": "code",
   "execution_count": 15,
   "metadata": {},
   "outputs": [],
   "source": [
    "h1=hb1.history['accuracy']\n",
    "h2=hb2.history['accuracy']"
   ]
  },
  {
   "cell_type": "code",
   "execution_count": 16,
   "metadata": {},
   "outputs": [
    {
     "data": {
      "image/png": "[encoded data removed]",
      "text/plain": [
       "<Figure size 432x288 with 1 Axes>"
      ]
     },
     "metadata": {
      "needs_background": "light"
     },
     "output_type": "display_data"
    }
   ],
   "source": [
    "plt.plot(h1)\n",
    "plt.plot(h2)\n",
    "plt.title('model accuracy')\n",
    "plt.ylabel('accuracy')\n",
    "plt.xlabel('epoch')\n",
    "plt.legend(['SAdam', 'Adam'], loc='upper left')\n",
    "plt.show()"
   ]
  },
  {
   "cell_type": "code",
   "execution_count": 17,
   "metadata": {},
   "outputs": [],
   "source": [
    "vh1=hb1.history['val_accuracy']\n",
    "vh2=hb2.history['val_accuracy']"
   ]
  },
  {
   "cell_type": "code",
   "execution_count": 18,
   "metadata": {},
   "outputs": [
    {
     "data": {
      "image/png": "[encoded data removed]",
      "text/plain": [
       "<Figure size 432x288 with 1 Axes>"
      ]
     },
     "metadata": {
      "needs_background": "light"
     },
     "output_type": "display_data"
    }
   ],
   "source": [
    "plt.plot(vh1)\n",
    "plt.plot(vh2)\n",
    "plt.title('model accuracy')\n",
    "plt.ylabel('accuracy')\n",
    "plt.xlabel('epoch')\n",
    "plt.legend(['SAdam', 'Adam'], loc='upper left')\n",
    "plt.show()"
   ]
  },
  {
   "cell_type": "code",
   "execution_count": null,
   "metadata": {},
   "outputs": [],
   "source": []
  }
 ],
 "metadata": {
  "kernelspec": {
   "display_name": "Python [conda env:Bdeep] *",
   "language": "python",
   "name": "conda-env-Bdeep-py"
  },
  "language_info": {
   "codemirror_mode": {
    "name": "ipython",
    "version": 3
   },
   "file_extension": ".py",
   "mimetype": "text/x-python",
   "name": "python",
   "nbconvert_exporter": "python",
   "pygments_lexer": "ipython3",
   "version": "3.7.9"
  }
 },
 "nbformat": 4,
 "nbformat_minor": 4
}
